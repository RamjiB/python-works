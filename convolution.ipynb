{
 "cells": [
  {
   "cell_type": "code",
   "execution_count": 31,
   "metadata": {
    "collapsed": false
   },
   "outputs": [
    {
     "name": "stdout",
     "output_type": "stream",
     "text": [
      "[ 3 10  9  2]\n",
      "[ 2  9 10  3]\n"
     ]
    },
    {
     "data": {
      "text/plain": [
       "'4092'"
      ]
     },
     "execution_count": 31,
     "metadata": {},
     "output_type": "execute_result"
    }
   ],
   "source": [
    "import numpy as np\n",
    "\n",
    "def convolution(x,y):\n",
    "    X = [];\n",
    "    Y=[];\n",
    "    for element in str(x):\n",
    "        X.append(int(element))\n",
    "    for element in str(y):\n",
    "        Y.append(int(element))\n",
    "    conv = np.convolve(X,Y)\n",
    "    print(conv)\n",
    "    reversed_conv = conv[::-1]\n",
    "    print(reversed_conv)\n",
    "    result = ''\n",
    "    quotient = 0\n",
    "    number = 0;\n",
    "    for element in reversed_conv:\n",
    "        number = element  + quotient\n",
    "        reminder = str(number%10)\n",
    "        result = result + reminder\n",
    "        quotient = number//10\n",
    "    \n",
    "    return result[::-1]\n",
    "    \n",
    "convolution(132,31)"
   ]
  },
  {
   "cell_type": "code",
   "execution_count": null,
   "metadata": {
    "collapsed": true
   },
   "outputs": [],
   "source": []
  },
  {
   "cell_type": "code",
   "execution_count": null,
   "metadata": {
    "collapsed": true
   },
   "outputs": [],
   "source": []
  }
 ],
 "metadata": {
  "anaconda-cloud": {},
  "kernelspec": {
   "display_name": "Python [Root]",
   "language": "python",
   "name": "Python [Root]"
  },
  "language_info": {
   "codemirror_mode": {
    "name": "ipython",
    "version": 3
   },
   "file_extension": ".py",
   "mimetype": "text/x-python",
   "name": "python",
   "nbconvert_exporter": "python",
   "pygments_lexer": "ipython3",
   "version": "3.5.2"
  }
 },
 "nbformat": 4,
 "nbformat_minor": 0
}
